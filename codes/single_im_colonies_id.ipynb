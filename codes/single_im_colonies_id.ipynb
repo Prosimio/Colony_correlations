{
 "cells": [
  {
   "cell_type": "markdown",
   "metadata": {},
   "source": [
    "### Loading packages"
   ]
  },
  {
   "cell_type": "code",
   "execution_count": null,
   "metadata": {},
   "outputs": [],
   "source": [
    "%matplotlib inline\n",
    "import matplotlib\n",
    "import matplotlib.pyplot as plt\n",
    "import numpy as np\n",
    "import os.path\n",
    "import glob\n",
    "\n",
    "#modify some matplotlib parameters to manage the images for illustrator\n",
    "matplotlib.rcParams['pdf.fonttype'] = 42\n",
    "matplotlib.rcParams['ps.fonttype'] = 42"
   ]
  },
  {
   "cell_type": "code",
   "execution_count": null,
   "metadata": {},
   "outputs": [],
   "source": [
    "from skimage.filters import gaussian\n",
    "import skimage.feature as skfeat"
   ]
  },
  {
   "cell_type": "markdown",
   "metadata": {},
   "source": [
    "### Loading images"
   ]
  },
  {
   "cell_type": "code",
   "execution_count": null,
   "metadata": {},
   "outputs": [],
   "source": [
    "fpath = os.path.abspath('test_images/R1 24h/')\n",
    "print(fpath+ '\\n')\n",
    "\n",
    "im_names = file_names(fpath,'tiff')\n",
    "im_count = len(im_names)\n",
    "im_fnames = []\n",
    "\n",
    "for name in im_names:\n",
    "    im_fnames.append(os.path.join(fpath, name))\n",
    "\n",
    "print('folder \"' +fpath.split('\\\\')[-1]+'\" = '+str(im_count) + ' files' + '\\n')\n",
    "print('file names:')\n",
    "print(im_names)"
   ]
  },
  {
   "cell_type": "code",
   "execution_count": null,
   "metadata": {},
   "outputs": [],
   "source": [
    "#exploring images features...\n",
    "plt.imread(im_fnames[0]).shape"
   ]
  },
  {
   "cell_type": "code",
   "execution_count": null,
   "metadata": {},
   "outputs": [],
   "source": [
    "im_data={}\n",
    "im_data['R'],im_data['G'],im_data['B'] = get_im_data(im_fnames)\n",
    "im_data['name']=im_fnames     # to store the related image source"
   ]
  },
  {
   "cell_type": "code",
   "execution_count": null,
   "metadata": {},
   "outputs": [],
   "source": [
    "# also define a vector with the channels\n",
    "CHANNELS=['R','G','B']"
   ]
  },
  {
   "cell_type": "code",
   "execution_count": null,
   "metadata": {},
   "outputs": [],
   "source": [
    "im_number = 0\n",
    "plot_channels(im_data, im_number)\n",
    "im_number = 1\n",
    "plot_channels(im_data, im_number)\n",
    "im_number = 2\n",
    "plot_channels(im_data, im_number)"
   ]
  },
  {
   "cell_type": "markdown",
   "metadata": {},
   "source": [
    "Accord above images, all the dyes have signal in the Green channel and have one without signal.\n",
    "Also, biggest signal per dye are: Dapi = B, Dii = R, Dio = G"
   ]
  },
  {
   "cell_type": "code",
   "execution_count": null,
   "metadata": {},
   "outputs": [],
   "source": [
    "plt.figure(figsize=(12,8))\n",
    "plt.imshow(im_data['B'][:,:,0])\n",
    "plt.title('original')\n",
    "plt.colorbar()\n",
    "\n",
    "thr = 200 \n",
    "plt.figure(figsize=(12,8))\n",
    "plt.imshow(im_data['B'][:,:,0]>thr)\n",
    "plt.title('threshold = '+ str(thr))\n",
    "\n",
    "thr = 250\n",
    "plt.figure(figsize=(12,8))\n",
    "plt.imshow(im_data['B'][:,:,0]>thr)\n",
    "plt.title('threshold = '+ str(thr))"
   ]
  },
  {
   "cell_type": "code",
   "execution_count": null,
   "metadata": {},
   "outputs": [],
   "source": [
    "plt.figure(figsize=(12,8))\n",
    "plt.imshow(im_data['R'][:,:,1])\n",
    "plt.title('original')\n",
    "plt.colorbar()\n",
    "\n",
    "thr = 170 \n",
    "plt.figure(figsize=(12,8))\n",
    "plt.imshow(im_data['R'][:,:,1]>thr)\n",
    "plt.title('threshold = '+ str(thr))\n",
    "\n",
    "thr = 250\n",
    "plt.figure(figsize=(12,8))\n",
    "plt.imshow(im_data['R'][:,:,1]>thr)\n",
    "plt.title('threshold = '+ str(thr))"
   ]
  },
  {
   "cell_type": "code",
   "execution_count": null,
   "metadata": {},
   "outputs": [],
   "source": [
    "select_area(500, 1000, 500, 1000, im_data, 'R', 1)"
   ]
  },
  {
   "cell_type": "code",
   "execution_count": null,
   "metadata": {},
   "outputs": [],
   "source": [
    "plt.figure(figsize=(12,8))\n",
    "plt.imshow(im_data['R'][500:1000,500:1000,1])#,cmap='gray')\n",
    "plt.title('original')\n",
    "plt.colorbar()"
   ]
  },
  {
   "cell_type": "code",
   "execution_count": null,
   "metadata": {},
   "outputs": [],
   "source": [
    "thr=70\n",
    "\n",
    "colony_blobs_id(im_data['R'][:,:,1], thr, im_fnames[1], [2,5], xlim=[500,1000], ylim=[500,1000])  #The radius of each blob is approximately √2σ\n",
    "#0.8 means a radius = 1 px.\n",
    "#1px = 0,177um\n",
    "# 1 cell 1 -2 um ---> min radius = 0.5 um = 2.82 px --> σ = 2.82/√2 = 1.994 px"
   ]
  },
  {
   "cell_type": "code",
   "execution_count": null,
   "metadata": {},
   "outputs": [],
   "source": [
    "from skimage import data, feature, exposure"
   ]
  },
  {
   "cell_type": "code",
   "execution_count": null,
   "metadata": {},
   "outputs": [],
   "source": [
    "img = data.coins()\n",
    "plt.imshow(img)"
   ]
  },
  {
   "cell_type": "code",
   "execution_count": null,
   "metadata": {},
   "outputs": [],
   "source": [
    "imge = exposure.equalize_hist(img)\n",
    "plt.imshow(imge)"
   ]
  },
  {
   "cell_type": "code",
   "execution_count": null,
   "metadata": {},
   "outputs": [],
   "source": [
    "feature.blob_log(img, threshold = .3)"
   ]
  },
  {
   "cell_type": "code",
   "execution_count": null,
   "metadata": {},
   "outputs": [],
   "source": []
  },
  {
   "cell_type": "code",
   "execution_count": null,
   "metadata": {},
   "outputs": [],
   "source": []
  },
  {
   "cell_type": "markdown",
   "metadata": {},
   "source": [
    "## Functions"
   ]
  },
  {
   "cell_type": "code",
   "execution_count": null,
   "metadata": {},
   "outputs": [],
   "source": [
    "def file_names(path,file_type):\n",
    "    \"\"\"\n",
    "    To obtain a list with the name of the files with defined extension (filetype) on a certain folder (path)\n",
    "\n",
    "    Parameters\n",
    "    ----------\n",
    "    path : string\n",
    "        folder name where the images are stored\n",
    "\n",
    "    file_type : string\n",
    "        extension of the files to search for (e.g. tif, png, jpg)\n",
    "\n",
    "    Returns\n",
    "    -------\n",
    "    F_Names : list\n",
    "        number of defined filetype files on the path folder\n",
    "\n",
    "    \"\"\"\n",
    "    \n",
    "    F_Names = []\n",
    "    for name in os.listdir(path):\n",
    "        if name.find(file_type) != -1:\n",
    "            F_Names.append(name)\n",
    "            \n",
    "    return(F_Names)\n"
   ]
  },
  {
   "cell_type": "code",
   "execution_count": null,
   "metadata": {},
   "outputs": [],
   "source": [
    "def get_im_data(f_names):\n",
    "    \"\"\"\n",
    "    Load image data from a list of image files (f_names).\n",
    "    It doesn't supports images with different pixel dimentions\n",
    "    (e.g all of them have to be 900x600 px)\n",
    "    It is important for further positional correlations\n",
    "\n",
    "    Parameters\n",
    "    ----------\n",
    "    f_name : string\n",
    "        file name including full path where images are stored, e.g. \"/folder/image_1.jpg\"\n",
    "\n",
    "    Returns\n",
    "    -------\n",
    "    ImsR,ImsG,ImsB: array_like\n",
    "        data per channel of each image (ImsR -> matrix size = (W,H,image_count/x_frames))\n",
    "\n",
    "    \"\"\"\n",
    "    \n",
    "    W,H,_ = plt.imread(f_names[0]).shape      # Measure the image size based on the first image on the folder\n",
    "    N = len(f_names)\n",
    "    Ims_R = np.zeros((W,H,N))\n",
    "    Ims_G = np.zeros((W,H,N))\n",
    "    Ims_B = np.zeros((W,H,N))\n",
    "    \n",
    "    for i in range(N):\n",
    "        Im = plt.imread(f_names[i])\n",
    "        Ims_R[:,:,i] = Im[:,:,0]              # Last number code the channel: 0=red, 1=green, 2=blue\n",
    "        Ims_G[:,:,i] = Im[:,:,1]\n",
    "        Ims_B[:,:,i] = Im[:,:,2]\n",
    "    return(Ims_R,Ims_G,Ims_B)\n",
    "\n",
    "# at call you can take only the channels you are interested in (e.g.):\n",
    "# red,_,blue=get_im_data(f_names)  ---> this only takes the red and blue channels\n",
    "\n"
   ]
  },
  {
   "cell_type": "code",
   "execution_count": null,
   "metadata": {},
   "outputs": [],
   "source": [
    "def plot_channels(data, image_number):\n",
    "\n",
    "    \"\"\"\n",
    "    plot channels of a desired image data in the dictionary\n",
    "\n",
    "    Parameters\n",
    "    ----------\n",
    "    data: dictionary\n",
    "        4 dimensional (R,G,B, im_file_number) matrix with the data \n",
    "    \n",
    "    image_number: int\n",
    "        number of the image in the array data\n",
    "\n",
    "    Returns\n",
    "    -------\n",
    "\n",
    "\n",
    "    \"\"\"\n",
    "    \n",
    "    plt.figure(figsize=(16,3))\n",
    "    POS_VECT = [131,132,133]           # figure position vector\n",
    "    count = 0\n",
    "    plt.suptitle(data['name'][image_number].split('\\\\')[-1], fontsize=14)\n",
    "    #print(data['name'][image_number].split('\\\\')[-1])\n",
    "    \n",
    "    for c in CHANNELS:\n",
    "\n",
    "        # make plot of the sum over time of smoothed data per channel\n",
    "    \n",
    "        plt.subplot(POS_VECT[count])\n",
    "        plt.imshow(data[c][:,:,image_number])\n",
    "        plt.colorbar()\n",
    "        plt.title(c+' channel')\n",
    "    \n",
    "        count += 1\n",
    "    plt.subplots_adjust(hspace=0, wspace=0, top=0.8)\n",
    "\n",
    "    return()"
   ]
  },
  {
   "cell_type": "code",
   "execution_count": null,
   "metadata": {},
   "outputs": [],
   "source": [
    "def colony_blobs_id(data, thresh, im_name, sigma_lim=[1,10], filename='null', xlim='null', ylim='null'):\n",
    "    \"\"\"\n",
    "    Use skimage to identify the position of each colony and define the circular region\n",
    "    used by each of them\n",
    "\n",
    "    Parameters\n",
    "    ----------\n",
    "    data: array of single channel image data\n",
    "\n",
    "    thresh:\n",
    "        Pixel values > thresh are included in the analysis, range (0,1)\n",
    "        \n",
    "    im_name:\n",
    "        Name of an image on which to overlay colony positions and sizes\n",
    "    \n",
    "    filename: string\n",
    "        filename with whom save the output image+blobs+ID\n",
    "    \n",
    "    sigma_lim: list\n",
    "        list with lower and upper sigma limits [min_sigma, max_sigma]\n",
    "\n",
    "    Returns\n",
    "    -------\n",
    "    A: array (Nx3)\n",
    "        Contains the (x,y) position and size of each blob for each of N colonies detected\n",
    "    \"\"\"\n",
    "    if xlim != 'null' and ylim != 'null':\n",
    "        data = data[xlim[0]:xlim[1],ylim[0]:ylim[1]]\n",
    "        \n",
    "    A = skfeat.blob_log(data, min_sigma=sigma_lim[0], max_sigma=sigma_lim[1], num_sigma=10, \n",
    "                        threshold=thresh, overlap=0.5)\n",
    "\n",
    "    plt.figure(figsize=(8,8))\n",
    "    plt.imshow(data, cmap='gray')\n",
    "    #plt.hold(True)\n",
    "    plt.title('Sumarized Image')\n",
    "    for i in range(len(A)):\n",
    "        circle = plt.Circle((A[i,1], A[i,0]), 2*A[i,2], color='r', fill=False , \n",
    "                            lw=0.5)\n",
    "        fig = plt.gcf()\n",
    "        ax = fig.gca()\n",
    "        ax.add_artist(circle)\n",
    "\n",
    "    plt.figure(figsize=(8,8))\n",
    "    if xlim != 'null' and ylim != 'null':\n",
    "        plt.imshow(plt.imread(im_name)[xlim[0]:xlim[1],ylim[0]:ylim[1],:])\n",
    "    else:\n",
    "        plt.imshow(plt.imread(im_name))\n",
    "    #plt.hold(True)\n",
    "    plt.title('Over '+ im_name)\n",
    "    for i in range(len(A)):\n",
    "        # plot the circle area identified for each colony\n",
    "        circle = plt.Circle((A[i,1], A[i,0]), 2*A[i,2], color='w', fill=False , lw=0.5)\n",
    "        fig = plt.gcf()\n",
    "        ax = fig.gca()\n",
    "        ax.add_artist(circle)\n",
    "        ax.axes.get_xaxis().set_visible(False)\n",
    "        ax.axes.get_yaxis().set_visible(False)\n",
    "        \n",
    "        # attach the ID label to each colony\n",
    "        plt.annotate(i, xy=(A[i,1], A[i,0]), xytext=(-2, 2),\n",
    "                     textcoords='offset points', ha='right', va='bottom',\n",
    "                     color='white')\n",
    "    if filename != 'null':\n",
    "        plt.savefig(str(filename) + \".pdf\", transparent=True)\n",
    "\n",
    "    return(A)\n"
   ]
  },
  {
   "cell_type": "code",
   "execution_count": null,
   "metadata": {},
   "outputs": [],
   "source": [
    "def smooth_data(data,sigma, im_number):\n",
    "\n",
    "    \"\"\"\n",
    "    Apply gaussian filter to smooth each frame data\n",
    "\n",
    "    Parameters\n",
    "    ----------\n",
    "    data: dictionary\n",
    "        4 dimensional (R,G,B, and im_number) matrix with the data.\n",
    "        \n",
    "    sigma: double\n",
    "        Filter parameter (standard deviation)\n",
    "\n",
    "    Returns\n",
    "    -------\n",
    "    NSIms: dictionary\n",
    "        Sum over time of Smoothed data per channel (call it nsims[channel][r,c])\n",
    "\n",
    "    NSImsAll: array_like\n",
    "        Matrix with sum of nsims over the channels (call it nsimsAll[r,c])\n",
    "    \n",
    "    SImsT: dictionary\n",
    "        Smoothed data per channel per frame (call it as simsT[channel][r,c,f])\n",
    "\n",
    "    \"\"\"\n",
    "\n",
    "    NSIms = {}\n",
    "    NSIms_All = np.zeros((data[CHANNELS[0]].shape[0],\n",
    "                          data[CHANNELS[0]].shape[1]))\n",
    "    SImsT = {}\n",
    "    \n",
    "    plt.figure(figsize=(17,3))\n",
    "    POS_VECT = [131,132,133]           # figure position vector\n",
    "    count = 0\n",
    "\n",
    "    for c in CHANNELS:\n",
    "        # apply filter\n",
    "        #Data_Sum = data[c].sum(axis=2)\n",
    "        SIms = gaussian(data[c][:,:,im_number], sigma)\n",
    "        NSIms [c] = (SIms-SIms.min())/(SIms.max()-SIms.min())  # nomalization, pixel value ∈ [0,1]\n",
    "\n",
    "        NSIms_All += NSIms[c]\n",
    "        \n",
    "        Maux = np.zeros((data[CHANNELS[0]].shape))\n",
    "        for fr in range(data[c].shape[-1]):\n",
    "            Maux[:,:,fr] = gaussian(data[c][:,:,fr], sigma) \n",
    "            \n",
    "        SImsT[c] = Maux\n",
    "        # make plot of the sum over time of smoothed data per channel\n",
    "    \n",
    "        plt.subplot(POS_VECT[count])\n",
    "        plt.imshow(NSIms[c])\n",
    "        plt.colorbar()\n",
    "        plt.title(c+' channel')\n",
    "    \n",
    "        count += 1\n",
    "    \n",
    "    return(NSIms,NSIms_All,SImsT)"
   ]
  },
  {
   "cell_type": "code",
   "execution_count": null,
   "metadata": {},
   "outputs": [],
   "source": [
    "def select_area(x1, x2, y1, y2, data, channel, im_num):\n",
    "    \"\"\"\n",
    "    compute the background mean value for each channel and frame based on a rectagle\n",
    "    defined by the user. Plot the rectangle over the image and makes plots of each channel\n",
    "    mean background value over time\n",
    "\n",
    "    Parameters\n",
    "    ----------\n",
    "    x1,x2,x1,x2: int values\n",
    "        rectangle area limits: (x1,y1) = left-up corner. (x2,y2) = rigth-bottom corner\n",
    "    \n",
    "    data : dictionary\n",
    "        R G B images data to get the background, and his names on data['Im']\n",
    "    \n",
    "    im_count : int\n",
    "        total number of files on the folder (can be obtained with count_files function)\n",
    "\n",
    "    Returns\n",
    "    -------\n",
    "    bg: dictionary\n",
    "        Background mean value of each channel for every time frame\n",
    "\n",
    "    \"\"\"\n",
    "\n",
    "    X2R = x2-x1 #convert on steps because the rectangle patch definition\n",
    "    Y2R = y2-y1\n",
    "\n",
    "    #plot the defined area\n",
    "    plt.figure(figsize=(8,8))\n",
    "    fig = plt.gcf()\n",
    "    ax = fig.gca()\n",
    "    ax.imshow(data[channel][:,:,im_num])\n",
    "    rect = matplotlib.patches.Rectangle((y1,x1), Y2R, X2R, linewidth=1, edgecolor='r', facecolor='none')\n",
    "    ax.add_patch(rect)\n",
    "\n",
    "    return()"
   ]
  },
  {
   "cell_type": "code",
   "execution_count": null,
   "metadata": {},
   "outputs": [],
   "source": []
  }
 ],
 "metadata": {
  "kernelspec": {
   "display_name": "Python 3",
   "language": "python",
   "name": "python3"
  },
  "language_info": {
   "codemirror_mode": {
    "name": "ipython",
    "version": 3
   },
   "file_extension": ".py",
   "mimetype": "text/x-python",
   "name": "python",
   "nbconvert_exporter": "python",
   "pygments_lexer": "ipython3",
   "version": "3.6.4"
  }
 },
 "nbformat": 4,
 "nbformat_minor": 2
}
