{
 "cells": [
  {
   "cell_type": "markdown",
   "metadata": {},
   "source": [
    "This file extract the data from an experiment folder and create a file with the obtained information"
   ]
  },
  {
   "cell_type": "code",
   "execution_count": null,
   "metadata": {},
   "outputs": [],
   "source": [
    "%matplotlib inline\n",
    "import matplotlib\n",
    "import matplotlib.pyplot as plt\n",
    "import numpy as np\n",
    "import os.path\n",
    "import glob\n",
    "import pickle as pkl\n",
    "\n",
    "#modify some matplotlib parameters to manage the images for illustrator\n",
    "matplotlib.rcParams['pdf.fonttype'] = 42\n",
    "matplotlib.rcParams['ps.fonttype'] = 42\n",
    "\n",
    "from skimage.filters import gaussian\n",
    "import skimage.feature as skfeat\n",
    "from scipy import ndimage"
   ]
  },
  {
   "cell_type": "markdown",
   "metadata": {},
   "source": [
    "### Load Images"
   ]
  },
  {
   "cell_type": "code",
   "execution_count": null,
   "metadata": {},
   "outputs": [],
   "source": [
    "## Fill this two variables accord the files of interest\n",
    "im_extension = 'tiff'\n",
    "nested_folder = 'test_images/R1 24h/'"
   ]
  },
  {
   "cell_type": "code",
   "execution_count": null,
   "metadata": {},
   "outputs": [],
   "source": [
    "print('folder \"' +fpath.split('\\\\')[-1])"
   ]
  },
  {
   "cell_type": "code",
   "execution_count": null,
   "metadata": {},
   "outputs": [],
   "source": [
    "fpath = os.path.abspath(nested_folder)\n",
    "\n",
    "im_names, fnames = file_names(fpath,im_extension)"
   ]
  },
  {
   "cell_type": "markdown",
   "metadata": {},
   "source": [
    "#### Get image data"
   ]
  },
  {
   "cell_type": "markdown",
   "metadata": {},
   "source": [
    "Next box load and organize the image data of the images in the folder"
   ]
  },
  {
   "cell_type": "code",
   "execution_count": null,
   "metadata": {},
   "outputs": [],
   "source": [
    "im_data={}\n",
    "im_data['R'],im_data['G'],im_data['B'],im_data['NormSum'] = get_im_data(fnames)\n",
    "im_data['name']=fnames     # to store the related image source\n",
    "# also define a vector with the channels\n",
    "CHANNELS=['R','G','B']"
   ]
  },
  {
   "cell_type": "markdown",
   "metadata": {},
   "source": [
    "Use next box to explore the channel values of a selected image"
   ]
  },
  {
   "cell_type": "code",
   "execution_count": null,
   "metadata": {},
   "outputs": [],
   "source": [
    "im_number = 2\n",
    "plot_channels(im_data, im_number)"
   ]
  },
  {
   "cell_type": "markdown",
   "metadata": {},
   "source": [
    "#### Detect bacterial colonies on each of them"
   ]
  },
  {
   "cell_type": "code",
   "execution_count": null,
   "metadata": {},
   "outputs": [],
   "source": [
    "#initialize the dictionaries to store the data\n",
    "sImS = {}\n",
    "sImSall = {}\n",
    "detected={}\n",
    "filter_sigma = {}\n",
    "threshold = {}\n",
    "sigma_lim = {}"
   ]
  },
  {
   "cell_type": "markdown",
   "metadata": {},
   "source": [
    " #### Execute the next three boxes to perform the analysis over each image\n",
    " (repeat for each of them)"
   ]
  },
  {
   "cell_type": "code",
   "execution_count": null,
   "metadata": {},
   "outputs": [],
   "source": [
    "#Fill this two variables to set the filter properties\n",
    "im_num = 4\n",
    "filter_sigma[im_num] = 0.5\n",
    "\n",
    "#### apply the filter\n",
    "sImS[im_num],sImSall[im_num] = smooth_data(im_data,filter_sigma[im_num],im_num)"
   ]
  },
  {
   "cell_type": "code",
   "execution_count": null,
   "metadata": {},
   "outputs": [],
   "source": [
    "## Fill this two parameters to define the colony identification\n",
    "threshold[im_num]=0.35\n",
    "sigma_lim[im_num] = [2,14]\n",
    "\n",
    "## Fill this two parameters only if you want to use a smaller region of the image\n",
    "x_lim = [0,-1]\n",
    "y_lim = [0,-1]\n",
    "\n",
    "#########################\n",
    "### detect the images ###\n",
    "#########################\n",
    "\n",
    "detected[im_num]=colony_blobs_id(sImSall[im_num], threshold[im_num], fnames[im_num], sigma_lim[im_num])#, xlim=x_lim, ylim=y_lim) "
   ]
  },
  {
   "cell_type": "markdown",
   "metadata": {},
   "source": [
    "Whith the next box, you are able to perform a zoom over the image to check the detected colonies quality"
   ]
  },
  {
   "cell_type": "code",
   "execution_count": null,
   "metadata": {},
   "outputs": [],
   "source": [
    "y_zoom = [1000,2000]\n",
    "x_zoom = [2000,3000]\n",
    "colony_plot(detected[im_num], fnames[im_num], y_zoom, x_zoom)"
   ]
  },
  {
   "cell_type": "markdown",
   "metadata": {},
   "source": [
    "### BrightField filter"
   ]
  },
  {
   "cell_type": "markdown",
   "metadata": {},
   "source": [
    "#### Smooth the image"
   ]
  },
  {
   "cell_type": "code",
   "execution_count": null,
   "metadata": {},
   "outputs": [],
   "source": [
    "# fill this two variables with the BrigthField image number and desired filter parameter value\n",
    "im_num = 0\n",
    "filter_sigma[im_num] = 0.5\n",
    "\n",
    "# Apply the filter\n",
    "sImS[im_num],sImSall[im_num] = smooth_data(im_data,filter_sigma[im_num],im_num)"
   ]
  },
  {
   "cell_type": "markdown",
   "metadata": {},
   "source": [
    "#### Determine the grain area"
   ]
  },
  {
   "cell_type": "code",
   "execution_count": null,
   "metadata": {},
   "outputs": [],
   "source": [
    "bf_cols = {}"
   ]
  },
  {
   "cell_type": "code",
   "execution_count": null,
   "metadata": {},
   "outputs": [],
   "source": [
    "bf_thresh = 2.9\n",
    "\n",
    "bf_cols[\"bf_threshold\"] = bf_thresh\n",
    "bin_bf = binary_image(sImSall[im_num], bf_thresh)"
   ]
  },
  {
   "cell_type": "markdown",
   "metadata": {},
   "source": [
    "####  Filter the colonies outside the grains\n",
    "execute the next box for any image desired to consider only the colonies inside the grains"
   ]
  },
  {
   "cell_type": "code",
   "execution_count": null,
   "metadata": {},
   "outputs": [],
   "source": [
    "im_num = 4\n",
    "bf_cols[im_num] =  np.asarray(Bfield_filter(detected[im_num], bin_bf))"
   ]
  },
  {
   "cell_type": "markdown",
   "metadata": {},
   "source": [
    "Next two boxes couls be used to compare the situtation with or without the colonies outside the grains"
   ]
  },
  {
   "cell_type": "code",
   "execution_count": null,
   "metadata": {},
   "outputs": [],
   "source": [
    "colony_plot(bf_cols[im_num], fnames[im_num], ylim=[2000,3000], xlim=[1000,2000])"
   ]
  },
  {
   "cell_type": "code",
   "execution_count": null,
   "metadata": {},
   "outputs": [],
   "source": [
    "colony_plot(detected[im_num], fnames[im_num], ylim=[2000,3000], xlim=[1000,2000])"
   ]
  },
  {
   "cell_type": "markdown",
   "metadata": {},
   "source": [
    "### Save the folder images data in the database"
   ]
  },
  {
   "cell_type": "code",
   "execution_count": null,
   "metadata": {},
   "outputs": [],
   "source": [
    "### Organize the information, it is not necessary to modify anything here.\n",
    "images_data = {}\n",
    "images_data[\"smooth\"]={}\n",
    "images_data[\"smooth\"]['images'] = sImS\n",
    "images_data[\"smooth\"]['filter_sigma'] = filter_sigma\n",
    "images_data[\"detection\"] = {}\n",
    "images_data[\"detection\"]['colonies'] = detected\n",
    "images_data[\"detection\"]['threshold'] = threshold\n",
    "images_data[\"detection\"]['sigma_domain'] = sigma_lim\n",
    "images_data[\"detection\"]['bf_colonies'] = bf_cols"
   ]
  },
  {
   "cell_type": "code",
   "execution_count": null,
   "metadata": {},
   "outputs": [],
   "source": [
    "#Save the object\n",
    "save_obj(images_data, 'database', 'data', fpath)"
   ]
  },
  {
   "cell_type": "code",
   "execution_count": null,
   "metadata": {},
   "outputs": [],
   "source": []
  },
  {
   "cell_type": "code",
   "execution_count": null,
   "metadata": {},
   "outputs": [],
   "source": []
  },
  {
   "cell_type": "markdown",
   "metadata": {},
   "source": [
    "## Functions"
   ]
  },
  {
   "cell_type": "code",
   "execution_count": null,
   "metadata": {},
   "outputs": [],
   "source": [
    "def file_names(path,file_type):\n",
    "    \"\"\"\n",
    "    To obtain a list with the name of the files with defined extension (filetype) on a certain folder (path)\n",
    "\n",
    "    Parameters\n",
    "    ----------\n",
    "    path : string\n",
    "        folder name where the images are stored\n",
    "\n",
    "    file_type : string\n",
    "        extension of the files to search for (e.g. tif, png, jpg)\n",
    "\n",
    "    Returns\n",
    "    -------\n",
    "    F_Names : list\n",
    "        number of defined filetype files on the path folder\n",
    "\n",
    "    \"\"\"\n",
    "    \n",
    "    Names = []\n",
    "    for name in os.listdir(path):\n",
    "        if name.find(file_type) != -1:\n",
    "            Names.append(name)\n",
    "    \n",
    "    #display information\n",
    "    print(path+ '\\n')\n",
    "\n",
    "    im_count = len(Names)\n",
    "    im_fnames = []\n",
    "\n",
    "    for name in Names:\n",
    "        im_fnames.append(os.path.join(path, name))\n",
    "\n",
    "    print('folder \"' +path.split('\\\\')[-1]+'\" = '+str(im_count) + ' files' + '\\n')\n",
    "    print('file names:')\n",
    "    print(Names)\n",
    "            \n",
    "    return(Names, im_fnames)\n"
   ]
  },
  {
   "cell_type": "code",
   "execution_count": null,
   "metadata": {},
   "outputs": [],
   "source": [
    "def get_im_data(f_names):\n",
    "    \"\"\"\n",
    "    Load image data from a list of image files (f_names).\n",
    "    It doesn't supports images with different pixel dimentions\n",
    "    (e.g all of them have to be 900x600 px)\n",
    "    It is important for further positional correlations\n",
    "\n",
    "    Parameters\n",
    "    ----------\n",
    "    f_name : string\n",
    "        file name including full path where images are stored, e.g. \"/folder/image_1.jpg\"\n",
    "\n",
    "    Returns\n",
    "    -------\n",
    "    ImsR,ImsG,ImsB: array_like\n",
    "        data per channel of each image (ImsR -> matrix size = (W,H,image_count/x_frames))\n",
    "\n",
    "    \"\"\"\n",
    "    \n",
    "    W,H,_ = plt.imread(f_names[0]).shape      # Measure the image size based on the first image on the folder\n",
    "    N = len(f_names)\n",
    "    Ims_R = np.zeros((W,H,N))\n",
    "    Ims_G = np.zeros((W,H,N))\n",
    "    Ims_B = np.zeros((W,H,N))\n",
    "    Ims_Sum = np.zeros((W,H,N))\n",
    "    \n",
    "    for i in range(N):\n",
    "        Im = plt.imread(f_names[i])\n",
    "        Ims_R[:,:,i] = Im[:,:,0]              # Last number code the channel: 0=red, 1=green, 2=blue\n",
    "        Ims_G[:,:,i] = Im[:,:,1]\n",
    "        Ims_B[:,:,i] = Im[:,:,2]\n",
    "        \n",
    "        Chan_Sum = np.sum(Im, axis=2) #sum channels\n",
    "        max_imValue = np.amax(Chan_Sum, axis = (0,1)) #get the maximum im value\n",
    "        \n",
    "        if max_imValue < 1: #make sure it is higher than 1 to avoid division problems\n",
    "            max_imValue = 1\n",
    "            \n",
    "        Ims_Sum[:,:,i] = Chan_Sum*255/max_imValue #normalize and store the value\n",
    "    \n",
    "    return(Ims_R,Ims_G,Ims_B,Ims_Sum)\n",
    "\n",
    "# at call you can take only the channels you are interested in (e.g.):\n",
    "# red,_,blue=get_im_data(f_names)  ---> this only takes the red and blue channels\n",
    "\n"
   ]
  },
  {
   "cell_type": "code",
   "execution_count": null,
   "metadata": {},
   "outputs": [],
   "source": [
    "def plot_channels(data, image_number):\n",
    "\n",
    "    \"\"\"\n",
    "    plot channels of a desired image data in the dictionary\n",
    "\n",
    "    Parameters\n",
    "    ----------\n",
    "    data: dictionary\n",
    "        4 dimensional (R,G,B, im_file_number) matrix with the data \n",
    "    \n",
    "    image_number: int\n",
    "        number of the image in the array data\n",
    "\n",
    "    Returns\n",
    "    -------\n",
    "\n",
    "\n",
    "    \"\"\"\n",
    "    \n",
    "    plt.figure(figsize=(16,3))\n",
    "    POS_VECT = [131,132,133]           # figure position vector\n",
    "    count = 0\n",
    "    plt.suptitle(data['name'][image_number].split('\\\\')[-1], fontsize=14)\n",
    "    #print(data['name'][image_number].split('\\\\')[-1])\n",
    "    \n",
    "    for c in CHANNELS:\n",
    "\n",
    "        # make plot of the sum over time of smoothed data per channel\n",
    "    \n",
    "        plt.subplot(POS_VECT[count])\n",
    "        plt.imshow(data[c][:,:,image_number])\n",
    "        plt.colorbar()\n",
    "        plt.title(c+' channel')\n",
    "    \n",
    "        count += 1\n",
    "    plt.subplots_adjust(hspace=0, wspace=0, top=0.8)\n",
    "\n",
    "    return()"
   ]
  },
  {
   "cell_type": "code",
   "execution_count": null,
   "metadata": {},
   "outputs": [],
   "source": [
    "def colony_blobs_id(data, thresh, im_name, sigma_lim=[1,10], filename='null', xlim='null', ylim='null'):\n",
    "    \"\"\"\n",
    "    Use skimage to identify the position of each colony and define the circular region\n",
    "    used by each of them\n",
    "\n",
    "    Parameters\n",
    "    ----------\n",
    "    data: array of single channel image data\n",
    "\n",
    "    thresh:\n",
    "        Pixel values > thresh are included in the analysis, range (0,1)\n",
    "        \n",
    "    im_name:\n",
    "        Name of an image on which to overlay colony positions and sizes\n",
    "    \n",
    "    filename: string\n",
    "        filename with whom save the output image+blobs+ID\n",
    "    \n",
    "    sigma_lim: list\n",
    "        list with lower and upper sigma limits [min_sigma, max_sigma]\n",
    "\n",
    "    Returns\n",
    "    -------\n",
    "    A: array (Nx3)\n",
    "        Contains the (y,x) position and size of each blob for each of N colonies detected\n",
    "    \"\"\"\n",
    "    \n",
    "    #Show thresholded image\n",
    "    plt.figure(figsize=(8,8))\n",
    "    plt.imshow(data>thresh)\n",
    "    plt.title('Thresh Image')\n",
    "    \n",
    "    if xlim != 'null' and ylim != 'null':\n",
    "        data2 = data[ylim[0]:ylim[1],xlim[0]:xlim[1]]\n",
    "    else:\n",
    "        data2 = data  #this is necesary to avoid conflicts in plot_blobs dimetions\n",
    "    \n",
    "    # Find the blobs\n",
    "    A = skfeat.blob_log(data2, min_sigma=sigma_lim[0], max_sigma=sigma_lim[1], num_sigma=10, \n",
    "                    threshold=thresh, overlap=0.2)\n",
    "    # A =[y,x,sigma]\n",
    "    col_values = np.zeros((A.shape[0],A.shape[1]+2))\n",
    "    col_values[:,0:3] = A\n",
    "        \n",
    "    radii = ((2)**(1/2))*col_values[:,2]\n",
    "    col_values[:,3] = radii   # store the radii\n",
    "    \n",
    "    col_values[:,4]=np.arange(col_values.shape[0])  #assign the ID column\n",
    "    \n",
    "    #make plots\n",
    "    plot_blobs(col_values, data, ylim, xlim)\n",
    "    colony_plot(col_values,im_name, ylim, xlim)\n",
    "\n",
    "    if filename != 'null':\n",
    "        plt.savefig(str(filename) + \".pdf\", transparent=True)\n",
    "\n",
    "    return(col_values)\n",
    "\n",
    "#col_values = [x,y,sigma, radii, col_ID]"
   ]
  },
  {
   "cell_type": "code",
   "execution_count": null,
   "metadata": {},
   "outputs": [],
   "source": [
    "def plot_blobs(colonies, data, ylim='null', xlim='null'):\n",
    "    \n",
    "    if xlim != 'null' and ylim != 'null':\n",
    "        data = data[ylim[0]:ylim[1],xlim[0]:xlim[1]]  #2 dim data --> R or G or B or sum of them\n",
    "        colonies = colonies[colonies[:,1]<xlim[1],:]\n",
    "        colonies = colonies[colonies[:,1]>xlim[0],:]\n",
    "        colonies = colonies[colonies[:,0]<ylim[1],:]\n",
    "        colonies = colonies[colonies[:,0]>ylim[0],:]\n",
    "        colonies[:,1] = colonies[:,1]-xlim[0]\n",
    "        colonies[:,0] = colonies[:,0]-ylim[0]\n",
    "    \n",
    "    xpos=colonies[:,1]\n",
    "    ypos=colonies[:,0]\n",
    "    #radii = ((2)**(1/2))*col_sig\n",
    "    radii = colonies[:,3]\n",
    "    \n",
    "    fig_norm = plt.figure(figsize=(8,8))\n",
    "    plt.imshow(data, cmap='gray')\n",
    "    plt.colorbar()\n",
    "    plt.title('normalized image')\n",
    "    print('found ' + str(len(colonies))+' colonies')\n",
    "    for i in range(len(colonies)):\n",
    "        circle = plt.Circle((xpos[i], ypos[i]), radii[i], color='r', fill=False , \n",
    "                            lw=0.5)\n",
    "        fig = plt.gcf()\n",
    "        ax = fig.gca()\n",
    "        ax.add_artist(circle)\n",
    "\n",
    "    return()"
   ]
  },
  {
   "cell_type": "code",
   "execution_count": null,
   "metadata": {},
   "outputs": [],
   "source": [
    "def colony_plot(colonies,im_name, ylim, xlim):\n",
    "    \n",
    "    if xlim != 'null' and ylim != 'null':\n",
    "        im = plt.imread(im_name)[ylim[0]:ylim[1],xlim[0]:xlim[1],:]\n",
    "        colonies = colonies[colonies[:,1]<xlim[1],:]\n",
    "        colonies = colonies[colonies[:,1]>xlim[0],:]\n",
    "        colonies = colonies[colonies[:,0]<ylim[1],:]\n",
    "        colonies = colonies[colonies[:,0]>ylim[0],:]\n",
    "        colonies[:,1] = colonies[:,1]-xlim[0]\n",
    "        colonies[:,0] = colonies[:,0]-ylim[0]\n",
    "        \n",
    "    else:\n",
    "        im = plt.imread(im_name)\n",
    "    \n",
    "    xpos=colonies[:,1]\n",
    "    ypos=colonies[:,0]\n",
    "    col_sig = colonies[:,2]\n",
    "    #radii = ((2)**(1/2))*col_sig\n",
    "    radii = colonies[:,3]\n",
    "    ID = colonies[:,4]\n",
    "\n",
    "    fig_im = plt.figure(figsize=(8,8))\n",
    "    plt.imshow(im)\n",
    "    plt.title('Over '+ im_name)\n",
    "    \n",
    "    for i in range(len(colonies)):\n",
    "        # plot the circle area identified for each colony\n",
    "        #circle = plt.Circle((A[i,1], A[i,0]), 2*A[i,2], color='w', fill=False , lw=0.5)\n",
    "        circle = plt.Circle((xpos[i], ypos[i]), radii[i], color='w', fill=False , lw=0.5)\n",
    "        fig = plt.gcf()\n",
    "        ax = fig.gca()\n",
    "        ax.add_artist(circle)\n",
    "        ax.axes.get_xaxis().set_visible(False)\n",
    "        ax.axes.get_yaxis().set_visible(False)\n",
    "        \n",
    "        # attach the ID label to each colony\n",
    "        plt.annotate(ID[i], xy=(xpos[i], ypos[i]), xytext=(-2, 2),\n",
    "                     textcoords='offset points', ha='right', va='bottom',\n",
    "                     color='white')\n",
    "    return()"
   ]
  },
  {
   "cell_type": "code",
   "execution_count": null,
   "metadata": {},
   "outputs": [],
   "source": [
    "def smooth_data(data,sigma, im_number):\n",
    "\n",
    "    \"\"\"\n",
    "    Apply gaussian filter to smooth each frame data\n",
    "\n",
    "    Parameters\n",
    "    ----------\n",
    "    data: dictionary\n",
    "        4 dimensional (R,G,B, and im_number) matrix with the data.\n",
    "        \n",
    "    sigma: double\n",
    "        Filter parameter (standard deviation)\n",
    "\n",
    "    Returns\n",
    "    -------\n",
    "    NSIms: dictionary\n",
    "        Sum over time of Smoothed data per channel (call it nsims[channel][r,c])\n",
    "\n",
    "    NSImsAll: array_like\n",
    "        Matrix with sum of nsims over the channels (call it nsimsAll[r,c])\n",
    "    \n",
    "    SImsT: dictionary\n",
    "        Smoothed data per channel per frame (call it as simsT[channel][r,c,f])\n",
    "\n",
    "    \"\"\"\n",
    "\n",
    "    NSIms = {}\n",
    "    NSIms_All = np.zeros((data[CHANNELS[0]].shape[0],\n",
    "                          data[CHANNELS[0]].shape[1]))\n",
    "    \n",
    "    plt.figure(figsize=(17,3))\n",
    "    POS_VECT = [131,132,133]           # figure position vector\n",
    "    count = 0\n",
    "\n",
    "    for c in CHANNELS:\n",
    "        # apply filter\n",
    "        #Data_Sum = data[c].sum(axis=2)\n",
    "        SIms = gaussian(data[c][:,:,im_number], sigma)\n",
    "        \n",
    "        px_dist = (SIms-SIms.min())\n",
    "        max_dist =(SIms.max()-SIms.min())\n",
    "        \n",
    "        if max_dist < 1:    # to avoid problems of <1 division\n",
    "            max_dist = 1\n",
    "            \n",
    "        NSIms [c] = px_dist/max_dist  # nomalization, pixel value ∈ [0,1]\n",
    "\n",
    "        NSIms_All += NSIms[c]\n",
    "\n",
    "        # make plot of the sum over time of smoothed data per channel\n",
    "    \n",
    "        plt.subplot(POS_VECT[count])\n",
    "        plt.imshow(NSIms[c])\n",
    "        plt.colorbar()\n",
    "        plt.title(c+' channel')\n",
    "    \n",
    "        count += 1\n",
    "    \n",
    "    return(NSIms,NSIms_All)"
   ]
  },
  {
   "cell_type": "code",
   "execution_count": null,
   "metadata": {},
   "outputs": [],
   "source": [
    "def binary_image(im_data, thr):\n",
    "    \n",
    "    plt.figure(figsize=(8,8))\n",
    "    plt.imshow(im_data)\n",
    "    \n",
    "    bin_im = im_data > thr\n",
    "    \n",
    "    plt.figure(figsize=(8,8))\n",
    "    plt.imshow(bin_im)\n",
    "    \n",
    "    return(bin_im)"
   ]
  },
  {
   "cell_type": "code",
   "execution_count": null,
   "metadata": {},
   "outputs": [],
   "source": [
    "def Bfield_filter(colonies, bf_bin):\n",
    "    filtered = []\n",
    "    for i in range(len(colonies)):\n",
    "        x = int(colonies[i,1])\n",
    "        y = int(colonies[i,0])\n",
    "        \n",
    "        if bf_bin[y,x] == False:\n",
    "            \n",
    "            filtered.append(colonies[i,:])  \n",
    "    \n",
    "    return(filtered)"
   ]
  },
  {
   "cell_type": "code",
   "execution_count": null,
   "metadata": {},
   "outputs": [],
   "source": [
    "def save_obj(obj, name, folder, im_folder_path):\n",
    "    # folder is the name of the data folder\n",
    "    # name is the name of the database file\n",
    "    # im_folder is used as the dictionary identifier for the experiment data.\n",
    "    \n",
    "    if not os.path.exists(folder):\n",
    "        os.makedirs(folder)\n",
    "    \n",
    "    database = load_obj(name, folder)\n",
    "    \n",
    "    im_folder = im_folder_path.split('\\\\')[-1]\n",
    "    database[im_folder] = obj\n",
    "    \n",
    "    with open(folder+'/'+ name + '.pkl', 'wb') as f:\n",
    "        pkl.dump(database, f, pkl.HIGHEST_PROTOCOL)\n",
    "        print('\"'+ name + '.pkl\" saved on folder \"'+ folder +'\"')\n",
    "\n",
    "def load_obj(name, folder ):\n",
    "    try:\n",
    "        with open(folder+'/' + name + '.pkl', 'rb') as f:\n",
    "            return pkl.load(f)\n",
    "    except FileNotFoundError:\n",
    "        print('there was any previous file')\n",
    "        empty_dict = {}\n",
    "        return(empty_dict)"
   ]
  },
  {
   "cell_type": "code",
   "execution_count": null,
   "metadata": {},
   "outputs": [],
   "source": [
    "def calculateDistance(x1,y1,x2,y2):\n",
    "    dist = ((x2 - x1)**2 + (y2 - y1)**2)**(0.5)\n",
    "    return(dist)"
   ]
  },
  {
   "cell_type": "code",
   "execution_count": null,
   "metadata": {},
   "outputs": [],
   "source": []
  }
 ],
 "metadata": {
  "kernelspec": {
   "display_name": "Python 3",
   "language": "python",
   "name": "python3"
  },
  "language_info": {
   "codemirror_mode": {
    "name": "ipython",
    "version": 3
   },
   "file_extension": ".py",
   "mimetype": "text/x-python",
   "name": "python",
   "nbconvert_exporter": "python",
   "pygments_lexer": "ipython3",
   "version": "3.6.4"
  }
 },
 "nbformat": 4,
 "nbformat_minor": 2
}
